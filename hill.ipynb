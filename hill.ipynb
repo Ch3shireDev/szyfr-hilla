{
 "cells": [
  {
   "cell_type": "markdown",
   "metadata": {},
   "source": [
    "Problem: mamy szyfr Hilla, działającym poprzez mnożenie macierzy w pierścieniu modulo 26. Na podstawie wiadomości jawnej $m$ oraz kryptogramu $e$ chcemy znaleźć wartości macierzy Hilla $A$ oraz odpowiadającą jej macierz odwrotną $A^{-1}$."
   ]
  },
  {
   "cell_type": "markdown",
   "metadata": {},
   "source": [
    "Przykład: \n",
    "\n",
    "- wiadomość jawna $m = pies = m_1m_2 = (pi)(es) = [15, 8][4, 18]$\n",
    "- kryptogram $e = ntqi = e_1e_2 = (nt)(qi) = [13, 19][16, 8]$\n",
    "- macierz Hilla:\n",
    "\n",
    "$A = \\begin{bmatrix}\n",
    "a_{11} & a_{12}\\\\\n",
    "a_{21} & a_{22}\n",
    "\\end{bmatrix} = \\begin{bmatrix}\n",
    "7 & 8\\\\\n",
    "11 & 11\n",
    "\\end{bmatrix}$\n",
    "\n",
    "Operacja szyfrowania:\n",
    "\n",
    "$\n",
    "A m = e\\\\\n",
    "A m_1 = e_1 = \\begin{bmatrix} 7 & 8\\\\ 11 & 11 \\end{bmatrix} \\begin{bmatrix} 15 \\\\ 8 \\end{bmatrix} \\mod 26 = \\begin{bmatrix} 13 \\\\ 19 \\end{bmatrix} = nt \\\\\n",
    "A m_2 = e_2 = \\begin{bmatrix} 7 & 8\\\\ 11 & 11 \\end{bmatrix} \\begin{bmatrix} 4 \\\\ 18 \\end{bmatrix} \\mod 26 = \\begin{bmatrix} 16 \\\\ 8 \\end{bmatrix} = qi \n",
    "$\n",
    "\n",
    "Sprawdźmy teraz, czy obliczenia się zgadzają:"
   ]
  },
  {
   "cell_type": "code",
   "execution_count": 2,
   "metadata": {},
   "outputs": [
    {
     "name": "stdout",
     "output_type": "stream",
     "text": [
      "Szyfrogram e1 = [13 19]\n",
      "Szyfrogram e2 = [16  8]\n"
     ]
    }
   ],
   "source": [
    "from numpy import array\n",
    "\n",
    "A = array([[7,8],[11,11]])\n",
    "m1 = array([15,8])\n",
    "m2 = array([4,18])\n",
    "\n",
    "e1 = A.dot(m1) % 26\n",
    "e2 = A.dot(m2) % 26\n",
    "print(f\"Szyfrogram e1 = {e1}\")\n",
    "print(f\"Szyfrogram e2 = {e2}\")"
   ]
  },
  {
   "cell_type": "markdown",
   "metadata": {},
   "source": [
    "Jeśli chcemy wyznaczyć macierz odwrotną $B = A^{-1}$, to stosujemy wzór:\n",
    "\n",
    "$B = A^{-1} = \\frac{A^D}{\\det A},$\n",
    "\n",
    "gdzie $A^D$ jest macierzą dołączoną - transponowaną macierzą dopełnień algebraicznych, gdzie dopełnienie algebraiczne dla elementu $a_{ij}$ to wyznacznik minora tej macierzy, tj. macierzy powstałej przez usunięcie $i$-tego wiersza oraz $j$-tej kolumny, przemnożonego przez wartość $(-1)^{i+j}$. W przypadku macierzy 2x2 wyznaczanie minora jest trywialne, bo będzie to po prostu wartość elementu przeciwległego do elementu, którego dopełnienie chcemy wyznaczyć.\n",
    "\n",
    "Zatem dla macierzy $A = \\begin{bmatrix}7 & 8\\\\11&11\\end{bmatrix}$ macierz dołączona $A^D = \\begin{bmatrix} 11 & -8 \\\\ -11 & 7 \\end{bmatrix} \\mod 26 = \\begin{bmatrix} 11 & 18 \\\\ 15 & 19\\end{bmatrix}$.\n",
    "\n",
    "Poniżej sprawdzimy, czy rzeczywiście $A^D$ jest macierzą dołączoną. Spodziewamy się, że po przemnożeniu przez $A$ otrzymamy wielokrotność macierzy jednostkowej, tj. macierz z tą samą wartością tylko na diagonali:"
   ]
  },
  {
   "cell_type": "code",
   "execution_count": 3,
   "metadata": {},
   "outputs": [
    {
     "data": {
      "text/plain": [
       "array([[15,  0],\n",
       "       [ 0, 15]], dtype=int32)"
      ]
     },
     "execution_count": 3,
     "metadata": {},
     "output_type": "execute_result"
    }
   ],
   "source": [
    "from numpy import array\n",
    "A = array([[7,8],[11,11]])\n",
    "AD = array([[11,18],[15,7]])\n",
    "\n",
    "A.dot(AD) % 26 # spodziewamy się wielokrotności macierzy [[[1 0] [0 1]]"
   ]
  },
  {
   "cell_type": "markdown",
   "metadata": {},
   "source": [
    "\n",
    "Wyznacznik macierzy $A$ to $\\det A = 7 \\cdot 11 - 8 \\cdot 11 = 77 - 88 = -11 \\mod 26 = 15 \\mod 26 = 15$. Odwrotność $\\det A$ w pierścieniu modulo 26 to $15^{-1} = 7 \\mod 26 = 7$. \n",
    "\n",
    "(bo $15 \\cdot 7 \\mod 26 = 105 \\mod 26 = 1$)\n",
    "\n",
    "Macierz $A^{-1}$ to $A^D / \\det A = A^D \\cdot (\\det A)^{-1} \\mod 26 = \\begin{bmatrix} 11 & 18 \\\\ 15 & 7\\end{bmatrix} \\cdot 7 \\mod 26 = \\begin{bmatrix} 77 & 126 \\\\ 105 & 49\\end{bmatrix} \\mod 26 = \\begin{bmatrix} 25 & 22 \\\\ 1 & 23\\end{bmatrix}$"
   ]
  },
  {
   "cell_type": "markdown",
   "metadata": {},
   "source": [
    "Sprawdzimy teraz, czy faktycznie obliczenia się zgadzają:"
   ]
  },
  {
   "cell_type": "code",
   "execution_count": 4,
   "metadata": {},
   "outputs": [
    {
     "data": {
      "text/plain": [
       "array([[1, 0],\n",
       "       [0, 1]], dtype=int32)"
      ]
     },
     "execution_count": 4,
     "metadata": {},
     "output_type": "execute_result"
    }
   ],
   "source": [
    "from numpy import array\n",
    "A = array([[7,8],[11,11]])\n",
    "B = array([[25,22],[1,23]])\n",
    "\n",
    "A.dot(B) % 26 # spodziewamy się macierzy [[[1 0] [0 1]]"
   ]
  },
  {
   "cell_type": "markdown",
   "metadata": {},
   "source": [
    "Istotnie, macierz $B$ jest odwrotnością macierzy $A$ (mod 26). Sprawdzamy, czy macierz $B$ poprawnie deszyfruje kryptogram $e$:"
   ]
  },
  {
   "cell_type": "code",
   "execution_count": 5,
   "metadata": {},
   "outputs": [
    {
     "name": "stdout",
     "output_type": "stream",
     "text": [
      "Wiadomość jawna m1 = [15  8]\n",
      "Wiadomość jawna m2 = [ 4 18]\n"
     ]
    }
   ],
   "source": [
    "from numpy import array\n",
    "\n",
    "B = array([[25,22],[1,23]])\n",
    "e1 = array([13,19])\n",
    "e2 = array([16,8])\n",
    "\n",
    "m1 = B.dot(e1) % 26\n",
    "m2 = B.dot(e2) % 26\n",
    "print(f\"Wiadomość jawna m1 = {m1}\")\n",
    "print(f\"Wiadomość jawna m2 = {m2}\")"
   ]
  },
  {
   "cell_type": "markdown",
   "metadata": {},
   "source": [
    "Deszyfrowanie działa poprawnie."
   ]
  },
  {
   "cell_type": "markdown",
   "metadata": {},
   "source": [
    "Chcielibyśmy teraz stworzyć algorytm wyznaczający macierze $A$ $B$ na podstawie wiadomości jawnej $m$ oraz kryptogramu $e$.\n",
    "\n",
    "Zauważmy, że:\n",
    "\n",
    "$A m = e \\mod 26,$\n",
    "\n",
    "tj.\n",
    "\n",
    "$\\begin{bmatrix} a_{11} & a_{12} \\\\ a_{21} & a_{22} \\end{bmatrix} \\begin{bmatrix} m_{11} \\\\ m_{12}\\end{bmatrix} = \\begin{bmatrix} e_{11}\\\\e_{12}\\end{bmatrix},$\n",
    "\n",
    "oraz:\n",
    "\n",
    "$\\begin{bmatrix} a_{11} & a_{12} \\\\ a_{21} & a_{22} \\end{bmatrix} \\begin{bmatrix} m_{21} \\\\ m_{22}\\end{bmatrix} = \\begin{bmatrix} e_{21}\\\\e_{22}\\end{bmatrix}.$\n",
    "\n",
    "Zestawiając razem:\n",
    "\n",
    "$\\begin{bmatrix} a_{11} & a_{12} \\\\ a_{21} & a_{22} \\end{bmatrix} \\begin{bmatrix} m_{11} & m_{21} \\\\ m_{12} & m_{22}\\end{bmatrix} = \\begin{bmatrix} e_{11} & e_{21}\\\\e_{12} & e_{22}\\end{bmatrix},$\n",
    "\n",
    "czyli:\n",
    "\n",
    "$ A M = E.$\n",
    "\n",
    "Jeśli mamy $M$ oraz $E$, to wzór na $A$ to (zakładajac że $M$ oraz $E$ mają niezerowe wyznaczniki):\n",
    "\n",
    "$ A = E M^{-1}.$\n",
    "\n",
    "Musimy zatem wyznaczyć $M^{-1}$. Skorzystamy z tej samej metody co poprzednio:\n",
    "\n",
    "$M^{-1} = \\frac{M^D}{\\det M}.$\n",
    "\n",
    "$ M = \\begin{bmatrix} m_{11} & m_{21} \\\\ m_{12} & m_{22}\\end{bmatrix} = \\begin{bmatrix}15 & 4\\\\8 & 18\\end{bmatrix}$\n",
    "\n",
    "$ M^D = \\begin{bmatrix} m_{22} & -m_{21} \\\\ -m_{12} & m_{11}\\end{bmatrix} = \\begin{bmatrix} 18 & -4 \\\\ -8 & 15\\end{bmatrix} \\mod 26 = \\begin{bmatrix} 18 & 22 \\\\ 18 & 15\\end{bmatrix}$\n",
    "\n",
    "Sprawdzamy nasze obliczenia. $M\\cdot M^D$ powinno dawać wielokrotność macierzy jednostkowej modulo 26:"
   ]
  },
  {
   "cell_type": "code",
   "execution_count": 12,
   "metadata": {},
   "outputs": [
    {
     "data": {
      "text/plain": [
       "array([[4, 0],\n",
       "       [0, 4]], dtype=int32)"
      ]
     },
     "execution_count": 12,
     "metadata": {},
     "output_type": "execute_result"
    }
   ],
   "source": [
    "from numpy import array\n",
    "\n",
    "M = array([[15,4],[8,18]])\n",
    "MD = array([[18,22],[18,15]])\n",
    "\n",
    "M.dot(MD) % 26 # spodziewamy się wielokrotności macierzy [[[1 0] [0 1]]"
   ]
  },
  {
   "cell_type": "markdown",
   "metadata": {},
   "source": [
    "Wyznacznik macierzy M:\n",
    "\n",
    "$\\det M = m_{11} \\cdot m_{22} - m_{12} \\cdot m_{21} = 15 \\cdot 18 - 8 \\cdot 4 = 270 - 32 = 238 \\mod 26 = 4.$\n",
    "\n",
    "Tutaj mamy problem - 4 nie ma odwrotności modulo 26. Powinniśmy znaleźć inną wiadomość 4 literową, która da nam wyznacznik macierzy $M$ wględnie pierwszy z 26. Wtedy będziemy mogli wyznaczyć macierz $M^{-1}$."
   ]
  },
  {
   "cell_type": "code",
   "execution_count": 16,
   "metadata": {},
   "outputs": [
    {
     "name": "stdout",
     "output_type": "stream",
     "text": [
      "-7.000000000000001\n"
     ]
    }
   ],
   "source": [
    "from numpy import array\n",
    "from numpy.linalg import det\n",
    "\n",
    "M = array([[1,4],[3,5]])\n",
    "\n",
    "print(det(M)) # liczymy wyznacznik macierzy M, czyli wiadomości jawnej"
   ]
  },
  {
   "cell_type": "markdown",
   "metadata": {},
   "source": [
    "Widzimy, że wiadomość `bdef` będzie odpowiednia, bo jej wyznacznik wynosi -7, który jest względnie pierwszy z 26. Wiemy również, że szyfrowanie wiadomości `bdef` da nam kryptogram `ntqi`:"
   ]
  },
  {
   "cell_type": "code",
   "execution_count": 14,
   "metadata": {},
   "outputs": [
    {
     "data": {
      "text/plain": [
       "array([[ 5, 16],\n",
       "       [18, 21]], dtype=int32)"
      ]
     },
     "execution_count": 14,
     "metadata": {},
     "output_type": "execute_result"
    }
   ],
   "source": [
    "from numpy import array\n",
    "A = array([[7,8],[11,11]])\n",
    "M = array([[1,4],[3,5]])\n",
    "\n",
    "A.dot(M) % 26 # liczymy kryptogram"
   ]
  },
  {
   "cell_type": "code",
   "execution_count": 15,
   "metadata": {},
   "outputs": [
    {
     "name": "stdout",
     "output_type": "stream",
     "text": [
      "fsqv\n"
     ]
    }
   ],
   "source": [
    "to_msg = lambda x: ''.join([chr(i+ord('a')) for i in x])\n",
    "\n",
    "print(to_msg([5,18,16,21])) # sprawdzamy jak wygląda tekst kryptogramu"
   ]
  },
  {
   "cell_type": "markdown",
   "metadata": {},
   "source": [
    "Zatem:\n",
    "\n",
    "$M = \\begin{bmatrix} 1 & 4\\\\3 & 5\\end{bmatrix}$\n",
    "\n",
    "$E = \\begin{bmatrix} 5 & 16\\\\18&21\\end{bmatrix}$\n",
    "\n",
    "$A = E M^{-1}$\n",
    "\n",
    "$M^{-1} = \\frac{M^D}{\\det M}$\n",
    "\n",
    "$M^D = \\begin{bmatrix} 5 & -4\\\\-3 & 1\\end{bmatrix} \\mod 26 = \\begin{bmatrix} 5 & 22\\\\23 & 1\\end{bmatrix}$\n",
    "\n",
    "$\\det M = 1 \\cdot 5 - 3 \\cdot 4 = 5 - 12 = -7 \\mod 26 = 19$\n",
    "\n",
    "$(\\det M)^{-1} = 19^{-1} \\mod 26= 11$\n",
    "\n",
    "$M^{-1} = M^D \\cdot (\\det M)^{-1} = \\begin{bmatrix} 5 & 22\\\\23 & 1\\end{bmatrix} \\cdot 11 \\mod 26 = \\begin{bmatrix} 55 & 242\\\\253 & 11\\end{bmatrix} \\mod 26 = \\begin{bmatrix} 3 & 8\\\\19 & 11\\end{bmatrix}$\n",
    "\n",
    "Sprawdzamy, czy nasze obliczenia są poprawne:"
   ]
  },
  {
   "cell_type": "code",
   "execution_count": 10,
   "metadata": {},
   "outputs": [
    {
     "data": {
      "text/plain": [
       "array([[1, 0],\n",
       "       [0, 1]], dtype=int32)"
      ]
     },
     "execution_count": 10,
     "metadata": {},
     "output_type": "execute_result"
    }
   ],
   "source": [
    "from numpy import array\n",
    "\n",
    "M = array([[1,4],[3,5]])\n",
    "MI = array([[3,8],[19,11]]) # odwrotność M\n",
    "\n",
    "M.dot(MI) % 26 # spodziewamy się macierzy [[[1 0] [0 1]]"
   ]
  },
  {
   "cell_type": "markdown",
   "metadata": {},
   "source": [
    "Ostatecznie, obliczamy wynik $E M^{-1}$:"
   ]
  },
  {
   "cell_type": "code",
   "execution_count": 13,
   "metadata": {},
   "outputs": [
    {
     "data": {
      "text/plain": [
       "array([[ 7,  8],\n",
       "       [11, 11]], dtype=int32)"
      ]
     },
     "execution_count": 13,
     "metadata": {},
     "output_type": "execute_result"
    }
   ],
   "source": [
    "from numpy import array\n",
    "\n",
    "MI = array([[3,8],[19,11]]) # odwrotność M\n",
    "E = array([[5,16],[18,21]])\n",
    "\n",
    "E.dot(MI) % 26 # spodziewamy się macierzy A, tj. [[7 8] [11 11]]"
   ]
  },
  {
   "cell_type": "markdown",
   "metadata": {},
   "source": [
    "Zatem nasza metoda pozwoliła wstecznie wyznaczyć\n",
    "\n",
    "$A = \\begin{bmatrix} 7 & 8\\\\11&11\\end{bmatrix}$\n",
    "\n",
    "co zgadza się z wynikiem z poprzedniego przykładu. Macierz $A^{-1}$ możemy wyznaczyć na podstawie macierzy $A$, albo korzystając z przekształcenia:\n",
    "\n",
    "$A^{-1} = (E M^{-1})^{-1} = M E^{-1}$"
   ]
  },
  {
   "cell_type": "markdown",
   "metadata": {},
   "source": []
  }
 ],
 "metadata": {
  "kernelspec": {
   "display_name": "Python 3",
   "language": "python",
   "name": "python3"
  },
  "language_info": {
   "codemirror_mode": {
    "name": "ipython",
    "version": 3
   },
   "file_extension": ".py",
   "mimetype": "text/x-python",
   "name": "python",
   "nbconvert_exporter": "python",
   "pygments_lexer": "ipython3",
   "version": "3.10.11"
  }
 },
 "nbformat": 4,
 "nbformat_minor": 2
}
